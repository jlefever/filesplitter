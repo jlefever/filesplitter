{
 "cells": [
  {
   "cell_type": "code",
   "execution_count": 1,
   "metadata": {},
   "outputs": [],
   "source": [
    "import sys\n",
    "import os\n",
    "import time\n",
    "import sqlite3\n",
    "import json\n",
    "from pathlib import Path\n",
    "\n",
    "import numpy as np\n",
    "import pandas as pd\n",
    "from ordered_set import OrderedSet as oset\n",
    "\n",
    "sys.path.append(\"..\")\n",
    "from filesplitter import db, dv8\n",
    "from filesplitter.clustering import cluster_dataset\n",
    "from filesplitter.loading import load_dataset\n",
    "from filesplitter.validate import validate"
   ]
  },
  {
   "cell_type": "code",
   "execution_count": 2,
   "metadata": {},
   "outputs": [],
   "source": [
    "DATA_DIR = Path(\"../data/\")\n",
    "RESULTS_DIR = Path(\"../results/\")\n",
    "MAX_SUBJECTS_PER_DB = 20"
   ]
  },
  {
   "cell_type": "code",
   "execution_count": 3,
   "metadata": {},
   "outputs": [],
   "source": [
    "RESULTS_DIR.mkdir(exist_ok=True)"
   ]
  },
  {
   "cell_type": "code",
   "execution_count": 4,
   "metadata": {},
   "outputs": [
    {
     "name": "stdout",
     "output_type": "stream",
     "text": [
      "Finding subjects in android-base.db...\n",
      "Finding subjects in android-settings.db...\n",
      "Finding subjects in beam.db...\n",
      "Finding subjects in deltaspike.db...\n",
      "Finding subjects in dubbo.db...\n",
      "Finding subjects in flume.db...\n",
      "Finding subjects in gobblin.db...\n",
      "Finding subjects in hbase.db...\n",
      "Finding subjects in hudi.db...\n",
      "Finding subjects in kafka.db...\n",
      "Finding subjects in knox.db...\n",
      "Finding subjects in nifi.db...\n",
      "Finding subjects in oozie.db...\n",
      "Loaded 125 subjects.\n"
     ]
    }
   ],
   "source": [
    "candidates_dfs = []\n",
    "datasets = []\n",
    "\n",
    "for db_name in list(sorted(os.listdir(DATA_DIR))):\n",
    "    print(f\"Finding subjects in {db_name}...\")\n",
    "    with sqlite3.connect(Path(DATA_DIR, db_name)) as con:\n",
    "        db.create_temp_tables(con)\n",
    "        ref_name = db.fetch_lead_ref_name(con)\n",
    "        candidates = db.fetch_candidate_files(con, ref_name, 1000, 6)\n",
    "        candidates.insert(0, \"project\", db_name.split(\".\")[0])\n",
    "        candidates_dfs.append(candidates[:MAX_SUBJECTS_PER_DB])\n",
    "\n",
    "subjects = pd.concat(candidates_dfs, ignore_index=True)\n",
    "subject_names = [\"{}__{}\".format(p, \"_\".join(fn.split(\"/\")[-2:])) for p, fn in zip(subjects[\"project\"], subjects[\"filename\"])]\n",
    "subjects.insert(0, \"subject_name\", subject_names)\n",
    "print(f\"Loaded {len(subjects)} subjects.\")"
   ]
  },
  {
   "cell_type": "code",
   "execution_count": 5,
   "metadata": {},
   "outputs": [
    {
     "name": "stdout",
     "output_type": "stream",
     "text": [
      "Loading Subject 25: android-settings__wifi_WifiSettings.java\n",
      "Loading Subject 26: android-settings__manageapplications_ManageApplications.java\n",
      "Loading Subject 27: android-settings__fingerprint_FingerprintEnrollEnrolling.java\n",
      "Loading Subject 28: android-settings__details2_WifiDetailPreferenceController2.java\n",
      "Loading Subject 29: android-settings__fingerprint_FingerprintSettings.java\n"
     ]
    }
   ],
   "source": [
    "subject_names = []\n",
    "entities_dfs = []\n",
    "deps_dfs = []\n",
    "\n",
    "for i, (_, row) in list(enumerate(subjects.iterrows()))[:]:\n",
    "    print(\"Loading Subject {}: {}\".format(i, row[\"subject_name\"]))\n",
    "    ds = load_dataset(Path(DATA_DIR, row[\"project\"] + \".db\"), row[\"filename\"])\n",
    "    entities_df = pd.read_csv(Path(RESULTS_DIR, row[\"subject_name\"] + \".csv\"), index_col=\"id\")\n",
    "    entities_dfs.append(entities_df)\n",
    "    deps_dfs.append(ds.target_deps_df)\n",
    "    subject_names.append(row[\"subject_name\"])"
   ]
  },
  {
   "cell_type": "code",
   "execution_count": 7,
   "metadata": {},
   "outputs": [
    {
     "name": "stdout",
     "output_type": "stream",
     "text": [
      "Writing android-settings__wifi_WifiSettings.java...\n",
      "Writing android-settings__manageapplications_ManageApplications.java...\n",
      "Writing android-settings__fingerprint_FingerprintEnrollEnrolling.java...\n",
      "Writing android-settings__details2_WifiDetailPreferenceController2.java...\n",
      "Writing android-settings__fingerprint_FingerprintSettings.java...\n"
     ]
    }
   ],
   "source": [
    "for subject_name, entities_df, deps_df in zip(subject_names, entities_dfs, deps_dfs):\n",
    "    print(\"Writing {}...\".format(subject_name))\n",
    "    with open(Path(RESULTS_DIR, subject_name + \".dsm.json\"), \"w\") as f:\n",
    "        targets_df = entities_df.loc[~(entities_df[\"kind\"] == \"file\")]\n",
    "        json.dump(dv8.to_dsm(subject_name, targets_df, deps_df), f)\n",
    "    with open(Path(RESULTS_DIR, subject_name + \".drh.json\"), \"w\") as f:\n",
    "        json.dump(dv8.to_drh(subject_name + \"-drh\", targets_df), f)"
   ]
  },
  {
   "cell_type": "code",
   "execution_count": null,
   "metadata": {},
   "outputs": [],
   "source": [
    "# entities_df = entities_dfs[0]\n",
    "# targets_df = entities_df.loc[~(entities_df[\"kind\"] == \"file\")].copy()\n"
   ]
  },
  {
   "cell_type": "code",
   "execution_count": null,
   "metadata": {},
   "outputs": [],
   "source": [
    "# targets_df"
   ]
  },
  {
   "cell_type": "code",
   "execution_count": null,
   "metadata": {},
   "outputs": [],
   "source": [
    "# drh = dv8.to_drh(\"my-drh\", targets_df)"
   ]
  },
  {
   "cell_type": "code",
   "execution_count": null,
   "metadata": {},
   "outputs": [],
   "source": [
    "# with open(\"../example-drh.json\", \"w\") as f:\n",
    "#     json.dump(drh, f, indent=4)"
   ]
  }
 ],
 "metadata": {
  "kernelspec": {
   "display_name": ".venv",
   "language": "python",
   "name": "python3"
  },
  "language_info": {
   "codemirror_mode": {
    "name": "ipython",
    "version": 3
   },
   "file_extension": ".py",
   "mimetype": "text/x-python",
   "name": "python",
   "nbconvert_exporter": "python",
   "pygments_lexer": "ipython3",
   "version": "3.11.1"
  },
  "orig_nbformat": 4
 },
 "nbformat": 4,
 "nbformat_minor": 2
}
